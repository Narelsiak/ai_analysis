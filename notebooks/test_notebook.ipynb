{
 "cells": [
  {
   "cell_type": "code",
   "execution_count": 1,
   "metadata": {},
   "outputs": [],
   "source": [
    "import pandas as pd\n",
    "import numpy as np\n",
    "import os\n",
    "\n",
    "def load_data(file_path):\n",
    "    \"\"\"Loads data from a CSV file and returns X (features) and y (one-hot encoded labels).\"\"\"\n",
    "    try:\n",
    "        df = pd.read_csv(file_path)\n",
    "    except FileNotFoundError:\n",
    "        raise FileNotFoundError(f\"File not found: {file_path}\")\n",
    "    except Exception as e:\n",
    "        raise Exception(f\"Error while loading the file: {e}\")\n",
    "    \n",
    "    X = df.drop(columns=['Id', 'Species'])\n",
    "    y = one_hot_encoder(df['Species'])\n",
    "    return X, y\n",
    "\n",
    "def one_hot_encoder(labels):\n",
    "    \"\"\"Converts labels to one-hot encoding.\"\"\"\n",
    "    unique_labels = np.unique(labels)\n",
    "    label_to_index = {label: index for index, label in enumerate(unique_labels)}\n",
    "    label_indices = np.array([label_to_index[label] for label in labels])\n",
    "    return np.eye(len(unique_labels))[label_indices]\n",
    "\n",
    "def split_dataset(X, y, test_size=0.2):\n",
    "    \"\"\"Splits dataset into train and test sets, ensuring balanced class distribution.\"\"\"\n",
    "    num_samples = len(y)\n",
    "    indices = np.arange(num_samples)\n",
    "    np.random.shuffle(indices)\n",
    "\n",
    "    split_idx = int(num_samples * (1 - test_size))\n",
    "    train_indices, test_indices = indices[:split_idx], indices[split_idx:]\n",
    "\n",
    "    X_train, X_test = X.iloc[train_indices].values, X.iloc[test_indices].values\n",
    "    y_train, y_test = y[train_indices], y[test_indices]\n",
    "\n",
    "    return X_train, X_test, y_train, y_test\n",
    "\n",
    "def data_normalization(X):\n",
    "    \"\"\"Normalizes the dataset using Min-Max scaling.\"\"\"\n",
    "    return (X - X.min()) / (X.max() - X.min())\n",
    "\n",
    "file_path = os.path.join('..', 'data', 'raw', 'Iris.csv')\n",
    "\n",
    "X, y = load_data(file_path)\n",
    "X = data_normalization(X)\n",
    "X_train, X_test, y_train, y_test = split_dataset(X, y)"
   ]
  },
  {
   "cell_type": "code",
   "execution_count": null,
   "metadata": {},
   "outputs": [],
   "source": []
  }
 ],
 "metadata": {
  "kernelspec": {
   "display_name": "Python (myenv)",
   "language": "python",
   "name": "myenv"
  },
  "language_info": {
   "codemirror_mode": {
    "name": "ipython",
    "version": 3
   },
   "file_extension": ".py",
   "mimetype": "text/x-python",
   "name": "python",
   "nbconvert_exporter": "python",
   "pygments_lexer": "ipython3",
   "version": "3.11.0rc1"
  }
 },
 "nbformat": 4,
 "nbformat_minor": 2
}
